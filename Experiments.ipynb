{
 "cells": [
  {
   "metadata": {
    "ExecuteTime": {
     "end_time": "2025-02-27T22:49:16.736857Z",
     "start_time": "2025-02-27T22:49:16.733511Z"
    }
   },
   "cell_type": "code",
   "source": [
    "import json \n",
    "from pathlib import Path"
   ],
   "id": "eb71555dde16b0ce",
   "outputs": [],
   "execution_count": 69
  },
  {
   "metadata": {
    "ExecuteTime": {
     "end_time": "2025-02-27T22:49:16.746823Z",
     "start_time": "2025-02-27T22:49:16.744660Z"
    }
   },
   "cell_type": "code",
   "source": [
    "model = 'nomic-embed-text:latest'\n",
    "# Set up an Ollama client using the OpenAI api. It should round robin requests between the following endpoints:\n",
    "endpoints = ['localhost:11434', 'delos:11434']\n"
   ],
   "id": "b6edfc1ebb43a9c5",
   "outputs": [],
   "execution_count": 70
  },
  {
   "metadata": {
    "ExecuteTime": {
     "end_time": "2025-02-27T22:49:16.757846Z",
     "start_time": "2025-02-27T22:49:16.754200Z"
    }
   },
   "cell_type": "code",
   "source": [
    "def get_files(folder_path):\n",
    "    for path in Path(folder_path).rglob('*_bible.json'):\n",
    "        yield path\n",
    "\n",
    "def flatten_json(data, version):\n",
    "    records = []\n",
    "    for book, chapters in data.items():\n",
    "        for chapter, verses in chapters.items():\n",
    "            for verse, content in verses.items():\n",
    "                records.append( {\n",
    "                    'source': version, \n",
    "                    'book': book,\n",
    "                    'chapter': chapter,\n",
    "                    'verse': verse,\n",
    "                    'content': content,\n",
    "                })\n",
    "    return records\n",
    "    \n",
    "def write_to_file(output_file, records):\n",
    "    with output_file.open('w') as fw:\n",
    "        for record in records:\n",
    "            json.dump(record, fw)\n",
    "            fw.write('\\n')\n",
    "\n",
    "#    pass\n",
    "    #                    'embedding': ollama.embed(model=model, input=[content]),\n",
    "    #                    'embedding_model': model"
   ],
   "id": "dcd81b88a488cb9e",
   "outputs": [],
   "execution_count": 71
  },
  {
   "metadata": {
    "ExecuteTime": {
     "end_time": "2025-02-27T22:52:05.571607Z",
     "start_time": "2025-02-27T22:51:58.354368Z"
    }
   },
   "cell_type": "code",
   "source": [
    "for file_path in get_files('data/bibles'):\n",
    "    print(f\"Flattening: {file_path}\")\n",
    "    version = file_path.parent.name\n",
    "    data = json.load(open(file_path, 'r'))\n",
    "    output_file_path = Path(str(file_path).replace('.json', '_flattened.jsonl'))\n",
    "    records = flatten_json(data, version)\n",
    "    write_to_file(output_file_path, records)\n",
    "    output_file_path.rename(Path('data') / f\"{version}_flattened.jsonl\")\n",
    "    \n",
    "    "
   ],
   "id": "8edd8b7175449ca4",
   "outputs": [
    {
     "name": "stdout",
     "output_type": "stream",
     "text": [
      "Flattening: data/bibles/GNV/GNV_bible.json\n",
      "Flattening: data/bibles/EHV/EHV_bible.json\n",
      "Flattening: data/bibles/BRG/BRG_bible.json\n",
      "Flattening: data/bibles/NIV/NIV_bible.json\n",
      "Flattening: data/bibles/NET/NET_bible.json\n",
      "Flattening: data/bibles/ASV/ASV_bible.json\n",
      "Flattening: data/bibles/LEB/LEB_bible.json\n",
      "Flattening: data/bibles/NOG/NOG_bible.json\n",
      "Flattening: data/bibles/ESV/ESV_bible.json\n",
      "Flattening: data/bibles/NLT/NLT_bible.json\n",
      "Flattening: data/bibles/WEB/WEB_bible.json\n",
      "Flattening: data/bibles/JUB/JUB_bible.json\n",
      "Flattening: data/bibles/NASB/NASB_bible.json\n",
      "Flattening: data/bibles/NRSV/NRSV_bible.json\n",
      "Flattening: data/bibles/NASB1995/NASB1995_bible.json\n",
      "Flattening: data/bibles/ESVUK/ESVUK_bible.json\n",
      "Flattening: data/bibles/NIVUK/NIVUK_bible.json\n",
      "Flattening: data/bibles/NRSVUE/NRSVUE_bible.json\n",
      "Flattening: data/bibles/ISV/ISV_bible.json\n",
      "Flattening: data/bibles/NLV/NLV_bible.json\n",
      "Flattening: data/bibles/GW/GW_bible.json\n",
      "Flattening: data/bibles/NKJV/NKJV_bible.json\n",
      "Flattening: data/bibles/AKJV/AKJV_bible.json\n",
      "Flattening: data/bibles/YLT/YLT_bible.json\n",
      "Flattening: data/bibles/KJ21/KJ21_bible.json\n",
      "Flattening: data/bibles/KJV/KJV_bible.json\n",
      "Flattening: data/bibles/MEV/MEV_bible.json\n"
     ]
    }
   ],
   "execution_count": 73
  },
  {
   "metadata": {
    "ExecuteTime": {
     "end_time": "2025-02-27T22:49:24.043616Z",
     "start_time": "2025-02-27T22:49:24.042292Z"
    }
   },
   "cell_type": "code",
   "source": "\n",
   "id": "f8fe9bad90e45f5d",
   "outputs": [],
   "execution_count": 72
  }
 ],
 "metadata": {
  "kernelspec": {
   "name": "python3",
   "language": "python",
   "display_name": "Python 3 (ipykernel)"
  }
 },
 "nbformat": 4,
 "nbformat_minor": 5
}
